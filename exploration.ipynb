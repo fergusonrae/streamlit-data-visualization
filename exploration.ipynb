{
 "cells": [
  {
   "cell_type": "markdown",
   "id": "1aa122a3",
   "metadata": {},
   "source": [
    "# Exploration Overview\n",
    "This notebook's purpose is to load in the raw submarine cables json file and look through it to visualize potential data cleaning steps needed.\n",
    "\n",
    "The code and outputs for this are shown below.\n",
    "\n",
    "\n",
    "## Findings \n",
    "All findings found below in code are listed here for ease of viewing.\n",
    "- Small data. If assumption is that this is a one time cleaning process, excessive optimization not needed.\n",
    "- `url` and `email_link` columns don't seem to have much information, can probably be removed\n",
    "- `rfs` is a string column when it represents a date. Doesn't seem to have granularity consistency.\n",
    "- `owners` is a string list of multiple owners. Should be separated into individual owners.\n",
    "- `landing_points` seems to be its own dataset\n",
    "- `length` is a string col with unit and should be cleaned by making all the same unit and casting to numeric\n",
    "- `length` is missing in some rows. Filtering may have unexpected results\n",
    "- `rfs` is missing in 5 rows. Filtering may have unexpected results\n",
    "- `date_of_collection` is a string despite looking to have a date format above\n",
    "- `date_of_collection` is a constant. Column can likely be removed as it doesn't provide additional info\n",
    "- All `length` values are in KM. Can strip the unit and cast to numeric without converting units.\n",
    "- `ready_for_service` values have inconsistent granularity, but seem to have the year as the first element\n",
    "    - Not sure if Q4 means Q4 of the calendar year or that individual landing point's business year\n",
    "- The `cable_id` is a unique field, good primary key\n",
    "- `is_tbd` is null most of the time. Either fill or drop likely.\n",
    "- Is there only one landing point in a city? Potential to extrapolate the city from `name`.\n",
    "- For visualizing, there are no coordinates provided. Will need to collect these in order to visualize.\n",
    "- `is_tbd` is either empty or True. Could make assumption that None means False.\n",
    "- landing point's `id` to `cable_id` is a many to many relationship.\n",
    "\n",
    "## Expected Cleaning Steps\n",
    "- Remove `url`, `email_link`, and `date_of_collection` columns\n",
    "- Separate `rfs` columns into granularity aspects (year, month/quarter) and cast to appropriate types\n",
    "- Due to many to many relationship, separate owners and landing_point information into separate tablelike datasets.\n",
    "- Cast `length` to numeric and add unit information to column name\n",
    "- Fill `is_tbd` nulls with False\n",
    "- Potentially feature engineer to get landing point city\n",
    "- Collect and append latitude/longitude data for landing points\n",
    "\n",
    "## Dashboard User Feedback\n",
    "- If filtering by `length` or `rfs`, include user input as to whether null rows should be included or not."
   ]
  },
  {
   "cell_type": "code",
   "execution_count": 1,
   "id": "1ce5a0e1",
   "metadata": {},
   "outputs": [],
   "source": [
    "# Imports\n",
    "import json\n",
    "from pathlib import Path\n",
    "\n",
    "import pandas as pd\n",
    "\n",
    "from us_state_abbr import abbrev_to_us_state\n",
    "\n",
    "# Constants\n",
    "RAW_DATA_PATH = Path(\"raw_data\")\n",
    "RAW_CABLE_DATA_PATH = RAW_DATA_PATH / \"Submarine Cables - 2023-02-22.json\""
   ]
  },
  {
   "cell_type": "code",
   "execution_count": 5,
   "id": "ca478abe",
   "metadata": {},
   "outputs": [
    {
     "name": "stdout",
     "output_type": "stream",
     "text": [
      "Number of elements: 545\n",
      "\n",
      "Key values for a data element: dict_keys(['date_of_collection', 'cable_id', 'cable_name', 'rfs', 'owners', 'url', 'email_link', 'landing_points', 'length'])\n",
      "\n",
      "2 example elements:\n",
      "\n",
      "\n",
      " {'date_of_collection': '2023-02-22', 'cable_id': '2africa', 'cable_name': '2Africa', 'rfs': '2023', 'owners': 'China Mobile, MTN, Meta, Orange, Saudi Telecom, Telecom Egypt, Vodafone, WIOCC', 'url': None, 'email_link': 'https://www.submarinecablemap.com/#/submarine-cable/2africa', 'landing_points': '[{\"is_tbd\": null, \"country\": \"Angola\", \"id\": \"luanda-angola\", \"name\": \"Luanda, Angola\"}, {\"is_tbd\": null, \"country\": \"Bahrain\", \"id\": \"manama-bahrain\", \"name\": \"Manama, Bahrain\"}, {\"is_tbd\": null, \"country\": \"Comoros\", \"id\": \"moroni-comoros\", \"name\": \"Moroni, Comoros\"}, {\"is_tbd\": null, \"country\": \"Congo, Dem. Rep.\", \"id\": \"muanda-congo-dem-rep-\", \"name\": \"Muanda, Congo, Dem. Rep.\"}, {\"is_tbd\": null, \"country\": \"Congo, Rep.\", \"id\": \"pointe-noire-congo-rep-\", \"name\": \"Pointe-Noire, Congo, Rep.\"}, {\"is_tbd\": null, \"country\": \"C\\\\u00f4te d\\'Ivoire\", \"id\": \"abidjan-cte-divoire\", \"name\": \"Abidjan, C\\\\u00f4te d\\'Ivoire\"}, {\"is_tbd\": null, \"country\": \"Djibouti\", \"id\": \"djibouti-city-djibouti\", \"name\": \"Djibouti City, Djibouti\"}, {\"is_tbd\": null, \"country\": \"Egypt\", \"id\": \"port-said-egypt\", \"name\": \"Port Said, Egypt\"}, {\"is_tbd\": null, \"country\": \"Egypt\", \"id\": \"ras-ghareb-egypt\", \"name\": \"Ras Ghareb, Egypt\"}, {\"is_tbd\": null, \"country\": \"Egypt\", \"id\": \"suez-egypt\", \"name\": \"Suez, Egypt\"}, {\"is_tbd\": null, \"country\": \"Egypt\", \"id\": \"zafarana-egypt\", \"name\": \"Zafarana, Egypt\"}, {\"is_tbd\": null, \"country\": \"France\", \"id\": \"marseille-france\", \"name\": \"Marseille, France\"}, {\"is_tbd\": null, \"country\": \"Gabon\", \"id\": \"libreville-gabon\", \"name\": \"Libreville, Gabon\"}, {\"is_tbd\": null, \"country\": \"Ghana\", \"id\": \"accra-ghana\", \"name\": \"Accra, Ghana\"}, {\"is_tbd\": null, \"country\": \"Greece\", \"id\": \"tympaki-greece\", \"name\": \"Tympaki, Greece\"}, {\"is_tbd\": null, \"country\": \"India\", \"id\": \"mumbai-india\", \"name\": \"Mumbai, India\"}, {\"is_tbd\": null, \"country\": \"Iraq\", \"id\": \"al-faw-iraq\", \"name\": \"Al Faw, Iraq\"}, {\"is_tbd\": null, \"country\": \"Italy\", \"id\": \"genoa-italy\", \"name\": \"Genoa, Italy\"}, {\"is_tbd\": null, \"country\": \"Kenya\", \"id\": \"mombasa-kenya\", \"name\": \"Mombasa, Kenya\"}, {\"is_tbd\": null, \"country\": \"Kuwait\", \"id\": \"kuwait-city-kuwait\", \"name\": \"Kuwait City, Kuwait\"}, {\"is_tbd\": null, \"country\": \"Madagascar\", \"id\": \"mahajanga-madagascar\", \"name\": \"Mahajanga, Madagascar\"}, {\"is_tbd\": null, \"country\": \"Mozambique\", \"id\": \"maputo-mozambique\", \"name\": \"Maputo, Mozambique\"}, {\"is_tbd\": null, \"country\": \"Mozambique\", \"id\": \"nacala-mozambique\", \"name\": \"Nacala, Mozambique\"}, {\"is_tbd\": null, \"country\": \"Nigeria\", \"id\": \"kwa-ibo-nigeria\", \"name\": \"Kwa Ibo, Nigeria\"}, {\"is_tbd\": null, \"country\": \"Nigeria\", \"id\": \"lagos-nigeria\", \"name\": \"Lagos, Nigeria\"}, {\"is_tbd\": null, \"country\": \"Oman\", \"id\": \"barka-oman\", \"name\": \"Barka, Oman\"}, {\"is_tbd\": null, \"country\": \"Oman\", \"id\": \"salalah-oman\", \"name\": \"Salalah, Oman\"}, {\"is_tbd\": null, \"country\": \"Pakistan\", \"id\": \"karachi-pakistan\", \"name\": \"Karachi, Pakistan\"}, {\"is_tbd\": null, \"country\": \"Portugal\", \"id\": \"carcavelos-portugal\", \"name\": \"Carcavelos, Portugal\"}, {\"is_tbd\": null, \"country\": \"Qatar\", \"id\": \"doha-qatar\", \"name\": \"Doha, Qatar\"}, {\"is_tbd\": null, \"country\": \"Saudi Arabia\", \"id\": \"al-khobar-saudi-arabia\", \"name\": \"Al Khobar, Saudi Arabia\"}, {\"is_tbd\": null, \"country\": \"Saudi Arabia\", \"id\": \"duba-saudi-arabia\", \"name\": \"Duba, Saudi Arabia\"}, {\"is_tbd\": null, \"country\": \"Saudi Arabia\", \"id\": \"jeddah-saudi-arabia\", \"name\": \"Jeddah, Saudi Arabia\"}, {\"is_tbd\": null, \"country\": \"Saudi Arabia\", \"id\": \"yanbu-saudi-arabia\", \"name\": \"Yanbu, Saudi Arabia\"}, {\"is_tbd\": null, \"country\": \"Senegal\", \"id\": \"dakar-senegal\", \"name\": \"Dakar, Senegal\"}, {\"is_tbd\": null, \"country\": \"Seychelles\", \"id\": \"carana-seychelles\", \"name\": \"Carana, Seychelles\"}, {\"is_tbd\": null, \"country\": \"Somalia\", \"id\": \"berbera-somalia\", \"name\": \"Berbera, Somalia\"}, {\"is_tbd\": null, \"country\": \"Somalia\", \"id\": \"mogadishu-somalia\", \"name\": \"Mogadishu, Somalia\"}, {\"is_tbd\": null, \"country\": \"South Africa\", \"id\": \"cape-town-south-africa\", \"name\": \"Cape Town, South Africa\"}, {\"is_tbd\": null, \"country\": \"South Africa\", \"id\": \"gqeberha-south-africa\", \"name\": \"Gqeberha, South Africa\"}, {\"is_tbd\": null, \"country\": \"South Africa\", \"id\": \"mtunzini-south-africa\", \"name\": \"Mtunzini, South Africa\"}, {\"is_tbd\": null, \"country\": \"Spain\", \"id\": \"barcelona-spain\", \"name\": \"Barcelona, Spain\"}, {\"is_tbd\": null, \"country\": \"Spain\", \"id\": \"gran-canaria-canary-islands-spain\", \"name\": \"Gran Canaria, Canary Islands, Spain\"}, {\"is_tbd\": null, \"country\": \"Sudan\", \"id\": \"port-sudan-sudan\", \"name\": \"Port Sudan, Sudan\"}, {\"is_tbd\": null, \"country\": \"Tanzania\", \"id\": \"dar-es-salaam-tanzania\", \"name\": \"Dar Es Salaam, Tanzania\"}, {\"is_tbd\": null, \"country\": \"United Arab Emirates\", \"id\": \"abu-dhabi-united-arab-emirates\", \"name\": \"Abu Dhabi, United Arab Emirates\"}, {\"is_tbd\": null, \"country\": \"United Arab Emirates\", \"id\": \"kalba-united-arab-emirates\", \"name\": \"Kalba, United Arab Emirates\"}, {\"is_tbd\": null, \"country\": \"United Kingdom\", \"id\": \"bude-united-kingdom\", \"name\": \"Bude, United Kingdom\"}]', 'length': '45,000 km'}\n",
      "\n",
      " {'date_of_collection': '2023-02-22', 'cable_id': 'acs-alaska-oregon-network-akorn', 'cable_name': 'ACS Alaska-Oregon Network (AKORN)', 'rfs': '2009 April', 'owners': 'Alaska Communications', 'url': 'https://www.alaskacommunications.com', 'email_link': 'https://www.submarinecablemap.com/#/submarine-cable/acs-alaska-oregon-network-akorn', 'landing_points': '[{\"is_tbd\": null, \"country\": \"United States\", \"id\": \"anchorage-ak-united-states\", \"name\": \"Anchorage, AK, United States\"}, {\"is_tbd\": null, \"country\": \"United States\", \"id\": \"florence-or-united-states\", \"name\": \"Florence, OR, United States\"}, {\"is_tbd\": null, \"country\": \"United States\", \"id\": \"homer-ak-united-states\", \"name\": \"Homer, AK, United States\"}, {\"is_tbd\": null, \"country\": \"United States\", \"id\": \"nikiski-ak-united-states\", \"name\": \"Nikiski, AK, United States\"}]', 'length': '3,000 km'}\n"
     ]
    }
   ],
   "source": [
    "# Load sub cable datasets\n",
    "with RAW_CABLE_DATA_PATH.open(\"r\") as data_file:\n",
    "    raw_cable_data = json.load(data_file)\n",
    "    \n",
    "# Print out various data tidbits\n",
    "# FINDING: small data, excessive optimization not needed\n",
    "print(\"Number of elements:\", len(raw_cable_data))\n",
    "print(\"\\nKey values for a data element:\", raw_cable_data[0].keys())\n",
    "print(\"\\n2 example elements:\\n\")\n",
    "for example in raw_cable_data[:2]:\n",
    "    print(\"\\n\", example)"
   ]
  },
  {
   "cell_type": "code",
   "execution_count": 6,
   "id": "39bcfd42",
   "metadata": {},
   "outputs": [
    {
     "data": {
      "text/html": [
       "<div>\n",
       "<style scoped>\n",
       "    .dataframe tbody tr th:only-of-type {\n",
       "        vertical-align: middle;\n",
       "    }\n",
       "\n",
       "    .dataframe tbody tr th {\n",
       "        vertical-align: top;\n",
       "    }\n",
       "\n",
       "    .dataframe thead th {\n",
       "        text-align: right;\n",
       "    }\n",
       "</style>\n",
       "<table border=\"1\" class=\"dataframe\">\n",
       "  <thead>\n",
       "    <tr style=\"text-align: right;\">\n",
       "      <th></th>\n",
       "      <th>date_of_collection</th>\n",
       "      <th>cable_id</th>\n",
       "      <th>cable_name</th>\n",
       "      <th>rfs</th>\n",
       "      <th>owners</th>\n",
       "      <th>url</th>\n",
       "      <th>email_link</th>\n",
       "      <th>landing_points</th>\n",
       "      <th>length</th>\n",
       "    </tr>\n",
       "  </thead>\n",
       "  <tbody>\n",
       "    <tr>\n",
       "      <th>0</th>\n",
       "      <td>2023-02-22</td>\n",
       "      <td>2africa</td>\n",
       "      <td>2Africa</td>\n",
       "      <td>2023</td>\n",
       "      <td>China Mobile, MTN, Meta, Orange, Saudi Telecom...</td>\n",
       "      <td>None</td>\n",
       "      <td>https://www.submarinecablemap.com/#/submarine-...</td>\n",
       "      <td>[{\"is_tbd\": null, \"country\": \"Angola\", \"id\": \"...</td>\n",
       "      <td>45,000 km</td>\n",
       "    </tr>\n",
       "    <tr>\n",
       "      <th>1</th>\n",
       "      <td>2023-02-22</td>\n",
       "      <td>acs-alaska-oregon-network-akorn</td>\n",
       "      <td>ACS Alaska-Oregon Network (AKORN)</td>\n",
       "      <td>2009 April</td>\n",
       "      <td>Alaska Communications</td>\n",
       "      <td>https://www.alaskacommunications.com</td>\n",
       "      <td>https://www.submarinecablemap.com/#/submarine-...</td>\n",
       "      <td>[{\"is_tbd\": null, \"country\": \"United States\", ...</td>\n",
       "      <td>3,000 km</td>\n",
       "    </tr>\n",
       "    <tr>\n",
       "      <th>2</th>\n",
       "      <td>2023-02-22</td>\n",
       "      <td>aden-djibouti</td>\n",
       "      <td>Aden-Djibouti</td>\n",
       "      <td>1994</td>\n",
       "      <td>Djibouti Telecom, Orange, Tata Communications,...</td>\n",
       "      <td>https://www.teleyemen.com.ye/</td>\n",
       "      <td>https://www.submarinecablemap.com/#/submarine-...</td>\n",
       "      <td>[{\"is_tbd\": null, \"country\": \"Djibouti\", \"id\":...</td>\n",
       "      <td>269 km</td>\n",
       "    </tr>\n",
       "  </tbody>\n",
       "</table>\n",
       "</div>"
      ],
      "text/plain": [
       "  date_of_collection                         cable_id  \\\n",
       "0         2023-02-22                          2africa   \n",
       "1         2023-02-22  acs-alaska-oregon-network-akorn   \n",
       "2         2023-02-22                    aden-djibouti   \n",
       "\n",
       "                          cable_name         rfs  \\\n",
       "0                            2Africa        2023   \n",
       "1  ACS Alaska-Oregon Network (AKORN)  2009 April   \n",
       "2                      Aden-Djibouti        1994   \n",
       "\n",
       "                                              owners  \\\n",
       "0  China Mobile, MTN, Meta, Orange, Saudi Telecom...   \n",
       "1                              Alaska Communications   \n",
       "2  Djibouti Telecom, Orange, Tata Communications,...   \n",
       "\n",
       "                                    url  \\\n",
       "0                                  None   \n",
       "1  https://www.alaskacommunications.com   \n",
       "2         https://www.teleyemen.com.ye/   \n",
       "\n",
       "                                          email_link  \\\n",
       "0  https://www.submarinecablemap.com/#/submarine-...   \n",
       "1  https://www.submarinecablemap.com/#/submarine-...   \n",
       "2  https://www.submarinecablemap.com/#/submarine-...   \n",
       "\n",
       "                                      landing_points     length  \n",
       "0  [{\"is_tbd\": null, \"country\": \"Angola\", \"id\": \"...  45,000 km  \n",
       "1  [{\"is_tbd\": null, \"country\": \"United States\", ...   3,000 km  \n",
       "2  [{\"is_tbd\": null, \"country\": \"Djibouti\", \"id\":...     269 km  "
      ]
     },
     "execution_count": 6,
     "metadata": {},
     "output_type": "execute_result"
    }
   ],
   "source": [
    "# For easier visualization and exploration, load json into a Pandas DataFrame and visualize first couple of rows\n",
    "# FINDING: `url` and `email_link` columns don't seem to have much information, can probably be removed\n",
    "# FINDING: `rfs` is a string column when it represents a date. Doesn't seem to have granularity consistency.\n",
    "# FINDING: `owners` is a string list of multiple owners. Should be separated into individual owners.\n",
    "# FINDING: `landing_points` seems to be its own dataset\n",
    "# FINDING: `length` is a string col with unit and should be cleaned by making all the same unit and casting to numeric\n",
    "raw_cable_df = pd.DataFrame.from_dict(raw_cable_data)\n",
    "raw_cable_df.head(3)"
   ]
  },
  {
   "cell_type": "code",
   "execution_count": 7,
   "id": "707518cd",
   "metadata": {},
   "outputs": [
    {
     "name": "stdout",
     "output_type": "stream",
     "text": [
      "<class 'pandas.core.frame.DataFrame'>\n",
      "RangeIndex: 545 entries, 0 to 544\n",
      "Data columns (total 9 columns):\n",
      " #   Column              Non-Null Count  Dtype \n",
      "---  ------              --------------  ----- \n",
      " 0   date_of_collection  545 non-null    object\n",
      " 1   cable_id            545 non-null    object\n",
      " 2   cable_name          545 non-null    object\n",
      " 3   rfs                 540 non-null    object\n",
      " 4   owners              545 non-null    object\n",
      " 5   url                 297 non-null    object\n",
      " 6   email_link          545 non-null    object\n",
      " 7   landing_points      545 non-null    object\n",
      " 8   length              508 non-null    object\n",
      "dtypes: object(9)\n",
      "memory usage: 38.4+ KB\n"
     ]
    }
   ],
   "source": [
    "# Visualize nulls and types\n",
    "# FINDING: `length` is missing in some rows. Filtering may have unexpected results\n",
    "# FINDING: `rfs` is missing in 5 rows. Filtering may have unexpected results\n",
    "# FINDING: `date_of_collection` is a string despite looking to have a date format above\n",
    "raw_cable_df.info()"
   ]
  },
  {
   "cell_type": "code",
   "execution_count": 10,
   "id": "b72b7507",
   "metadata": {},
   "outputs": [
    {
     "name": "stdout",
     "output_type": "stream",
     "text": [
      "Unique date collections: 1\n",
      "\n",
      "Length Unit options: ['km' None]\n",
      "\n",
      "Ready for Service examples ['2023', '2009 April', '1994', '1996 September', '2016 January', '2024 Q4', '2012 December', '1999 February', '2008 November', '2012', '2004 June', '2012 August', '1997 April', '1990', '1999']\n",
      "\n",
      "Num unique cable ids: 545 / 545 total rows\n"
     ]
    }
   ],
   "source": [
    "# FINDING: `date_of_collection` is a constant. Column can likely be removed as it doesn't provide additional info\n",
    "print(\"Unique date collections:\", raw_cable_df['date_of_collection'].nunique())\n",
    "\n",
    "# FINDING: All `length` values are in KM. Can strip the unit and cast to numeric without converting units.\n",
    "print(\"\\nLength Unit options:\", raw_cable_df['length'].str.split().str[-1].unique())\n",
    "\n",
    "# FINDING: `ready_for_service` values have inconsistent granularity, but seem to have the year as the first element\n",
    "#     Not sure if Q4 means Q4 of the calendar year or that individual landing point's business year\n",
    "print(\"\\nReady for Service examples\", raw_cable_df['rfs'].unique().tolist()[:15])\n",
    "\n",
    "# FINDING: The cable_id is a unique field, good primary key\n",
    "print(f\"\\nNum unique cable ids: {raw_cable_df['cable_id'].nunique()} / {raw_cable_df.shape[0]} total rows\")"
   ]
  },
  {
   "cell_type": "code",
   "execution_count": 12,
   "id": "94dd3de2",
   "metadata": {},
   "outputs": [
    {
     "data": {
      "text/html": [
       "<div>\n",
       "<style scoped>\n",
       "    .dataframe tbody tr th:only-of-type {\n",
       "        vertical-align: middle;\n",
       "    }\n",
       "\n",
       "    .dataframe tbody tr th {\n",
       "        vertical-align: top;\n",
       "    }\n",
       "\n",
       "    .dataframe thead th {\n",
       "        text-align: right;\n",
       "    }\n",
       "</style>\n",
       "<table border=\"1\" class=\"dataframe\">\n",
       "  <thead>\n",
       "    <tr style=\"text-align: right;\">\n",
       "      <th></th>\n",
       "      <th>owner</th>\n",
       "      <th>cable_id</th>\n",
       "    </tr>\n",
       "  </thead>\n",
       "  <tbody>\n",
       "    <tr>\n",
       "      <th>0</th>\n",
       "      <td>China Mobile</td>\n",
       "      <td>2africa</td>\n",
       "    </tr>\n",
       "    <tr>\n",
       "      <th>1</th>\n",
       "      <td>MTN</td>\n",
       "      <td>2africa</td>\n",
       "    </tr>\n",
       "    <tr>\n",
       "      <th>2</th>\n",
       "      <td>Meta</td>\n",
       "      <td>2africa</td>\n",
       "    </tr>\n",
       "  </tbody>\n",
       "</table>\n",
       "</div>"
      ],
      "text/plain": [
       "          owner cable_id\n",
       "0  China Mobile  2africa\n",
       "1           MTN  2africa\n",
       "2          Meta  2africa"
      ]
     },
     "execution_count": 12,
     "metadata": {},
     "output_type": "execute_result"
    }
   ],
   "source": [
    "# Explore owners and location separately\n",
    "\n",
    "# Explore owners\n",
    "# Explode owners out so each owner for a `cable_id` value is on a new line.\n",
    "owner_data = raw_cable_df[['owners', 'cable_id']].copy()\n",
    "owner_data['owners'] = owner_data['owners'].str.split(', ')\n",
    "owner_data = owner_data.explode('owners', ignore_index=True).rename(columns={'owners': 'owner'})\n",
    "owner_data.head(3)"
   ]
  },
  {
   "cell_type": "code",
   "execution_count": 18,
   "id": "3fc2f26d",
   "metadata": {},
   "outputs": [
    {
     "name": "stdout",
     "output_type": "stream",
     "text": [
      "                             owner\n",
      "cable_id                          \n",
      "seamewe-3                       50\n",
      "sat-3wasc                       33\n",
      "safe                            29\n",
      "japan-u-s-cable-network-jus     24\n",
      "apcn-2                          22\n",
      "                        cable_id\n",
      "owner                           \n",
      "Orange                        30\n",
      "Telecom Italia Sparkle        25\n",
      "Tata Communications           22\n",
      "AT&T                          22\n",
      "Google                        21\n"
     ]
    }
   ],
   "source": [
    "# FINDING: `owner` to `cable_id` is a many to many relationship. \n",
    "print(owner_data.groupby('cable_id').count().sort_values('owner', ascending=False).head(5))\n",
    "print(owner_data.groupby('owner').count().sort_values('cable_id', ascending=False).head(5))"
   ]
  },
  {
   "cell_type": "code",
   "execution_count": 23,
   "id": "7552b743",
   "metadata": {},
   "outputs": [
    {
     "name": "stdout",
     "output_type": "stream",
     "text": [
      "<class 'pandas.core.frame.DataFrame'>\n",
      "RangeIndex: 2578 entries, 0 to 2577\n",
      "Data columns (total 5 columns):\n",
      " #   Column    Non-Null Count  Dtype \n",
      "---  ------    --------------  ----- \n",
      " 0   is_tbd    6 non-null      object\n",
      " 1   country   2578 non-null   object\n",
      " 2   id        2578 non-null   object\n",
      " 3   name      2578 non-null   object\n",
      " 4   cable_id  2578 non-null   object\n",
      "dtypes: object(5)\n",
      "memory usage: 100.8+ KB\n",
      "None\n"
     ]
    },
    {
     "data": {
      "text/html": [
       "<div>\n",
       "<style scoped>\n",
       "    .dataframe tbody tr th:only-of-type {\n",
       "        vertical-align: middle;\n",
       "    }\n",
       "\n",
       "    .dataframe tbody tr th {\n",
       "        vertical-align: top;\n",
       "    }\n",
       "\n",
       "    .dataframe thead th {\n",
       "        text-align: right;\n",
       "    }\n",
       "</style>\n",
       "<table border=\"1\" class=\"dataframe\">\n",
       "  <thead>\n",
       "    <tr style=\"text-align: right;\">\n",
       "      <th></th>\n",
       "      <th>is_tbd</th>\n",
       "      <th>country</th>\n",
       "      <th>id</th>\n",
       "      <th>name</th>\n",
       "      <th>cable_id</th>\n",
       "    </tr>\n",
       "  </thead>\n",
       "  <tbody>\n",
       "    <tr>\n",
       "      <th>0</th>\n",
       "      <td>None</td>\n",
       "      <td>Angola</td>\n",
       "      <td>luanda-angola</td>\n",
       "      <td>Luanda, Angola</td>\n",
       "      <td>2africa</td>\n",
       "    </tr>\n",
       "    <tr>\n",
       "      <th>1</th>\n",
       "      <td>None</td>\n",
       "      <td>Bahrain</td>\n",
       "      <td>manama-bahrain</td>\n",
       "      <td>Manama, Bahrain</td>\n",
       "      <td>2africa</td>\n",
       "    </tr>\n",
       "    <tr>\n",
       "      <th>2</th>\n",
       "      <td>None</td>\n",
       "      <td>Comoros</td>\n",
       "      <td>moroni-comoros</td>\n",
       "      <td>Moroni, Comoros</td>\n",
       "      <td>2africa</td>\n",
       "    </tr>\n",
       "    <tr>\n",
       "      <th>3</th>\n",
       "      <td>None</td>\n",
       "      <td>Congo, Dem. Rep.</td>\n",
       "      <td>muanda-congo-dem-rep-</td>\n",
       "      <td>Muanda, Congo, Dem. Rep.</td>\n",
       "      <td>2africa</td>\n",
       "    </tr>\n",
       "    <tr>\n",
       "      <th>4</th>\n",
       "      <td>None</td>\n",
       "      <td>Congo, Rep.</td>\n",
       "      <td>pointe-noire-congo-rep-</td>\n",
       "      <td>Pointe-Noire, Congo, Rep.</td>\n",
       "      <td>2africa</td>\n",
       "    </tr>\n",
       "  </tbody>\n",
       "</table>\n",
       "</div>"
      ],
      "text/plain": [
       "  is_tbd           country                       id  \\\n",
       "0   None            Angola            luanda-angola   \n",
       "1   None           Bahrain           manama-bahrain   \n",
       "2   None           Comoros           moroni-comoros   \n",
       "3   None  Congo, Dem. Rep.    muanda-congo-dem-rep-   \n",
       "4   None       Congo, Rep.  pointe-noire-congo-rep-   \n",
       "\n",
       "                        name cable_id  \n",
       "0             Luanda, Angola  2africa  \n",
       "1            Manama, Bahrain  2africa  \n",
       "2            Moroni, Comoros  2africa  \n",
       "3   Muanda, Congo, Dem. Rep.  2africa  \n",
       "4  Pointe-Noire, Congo, Rep.  2africa  "
      ]
     },
     "execution_count": 23,
     "metadata": {},
     "output_type": "execute_result"
    }
   ],
   "source": [
    "# Explore location\n",
    "# Explode out landing points after loading them into Python objects using JSON\n",
    "# Translate dictionary into separate columns\n",
    "location_data = raw_cable_df[['landing_points', 'cable_id']].copy()\n",
    "location_data['landing_points'] = location_data['landing_points'].apply(lambda x: json.loads(x))\n",
    "location_data = location_data.explode('landing_points', ignore_index=True)\n",
    "location_data = pd.concat([location_data['landing_points'].apply(pd.Series), location_data['cable_id']], axis=1)\n",
    "\n",
    "\n",
    "# Visualize\n",
    "# FINDINGS: `is_tbd` is null most of the time. Either fill or drop likely.\n",
    "# FINDINGS: Is there only one landing point in a city? Potential to extrapolate the city from `name`.\n",
    "# FINDINGS: For visualizing, there is no coordinates provided. Will need to collect these in order to visualize.\n",
    "print(location_data.info())\n",
    "location_data.head()"
   ]
  },
  {
   "cell_type": "code",
   "execution_count": 24,
   "id": "18b6df4f",
   "metadata": {},
   "outputs": [
    {
     "data": {
      "text/plain": [
       "None    2572\n",
       "True       6\n",
       "Name: is_tbd, dtype: int64"
      ]
     },
     "execution_count": 24,
     "metadata": {},
     "output_type": "execute_result"
    }
   ],
   "source": [
    "# FINDING: `is_tbd` is either empty or True. Could make assumption that None means False.\n",
    "location_data['is_tbd'].value_counts(dropna=False)"
   ]
  },
  {
   "cell_type": "code",
   "execution_count": 26,
   "id": "95f281b3",
   "metadata": {},
   "outputs": [
    {
     "name": "stdout",
     "output_type": "stream",
     "text": [
      "                                                   id\n",
      "cable_id                                             \n",
      "connected-coast                                    51\n",
      "2africa                                            48\n",
      "bt-highlands-and-islands-submarine-cable-system    40\n",
      "seamewe-3                                          38\n",
      "philippine-domestic-submarine-cable-network-pdscn  33\n",
      "                     cable_id\n",
      "id                           \n",
      "mumbai-india               17\n",
      "tuas-singapore             17\n",
      "batam-indonesia            15\n",
      "jeddah-saudi-arabia        14\n",
      "marseille-france           14\n"
     ]
    }
   ],
   "source": [
    "# FINDING: landing point's `id` to `cable_id` is a many to many relationship. \n",
    "group_cols = ['cable_id', 'id']\n",
    "print(location_data[group_cols].groupby('cable_id').count().sort_values('id', ascending=False).head(5))\n",
    "print(location_data[group_cols].groupby('id').count().sort_values('cable_id', ascending=False).head(5))"
   ]
  }
 ],
 "metadata": {
  "kernelspec": {
   "display_name": "Python 3 (ipykernel)",
   "language": "python",
   "name": "python3"
  },
  "language_info": {
   "codemirror_mode": {
    "name": "ipython",
    "version": 3
   },
   "file_extension": ".py",
   "mimetype": "text/x-python",
   "name": "python",
   "nbconvert_exporter": "python",
   "pygments_lexer": "ipython3",
   "version": "3.8.2"
  }
 },
 "nbformat": 4,
 "nbformat_minor": 5
}
